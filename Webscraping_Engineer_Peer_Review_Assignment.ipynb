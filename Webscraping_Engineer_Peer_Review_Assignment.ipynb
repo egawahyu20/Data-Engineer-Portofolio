{
 "cells": [
  {
   "cell_type": "markdown",
   "metadata": {},
   "source": [
    "<p style=\"text-align:center\">\n",
    "    <a href=\"https://skills.network/?utm_medium=Exinfluencer&utm_source=Exinfluencer&utm_content=000026UJ&utm_term=10006555&utm_id=NA-SkillsNetwork-Channel-SkillsNetworkCoursesIBMDeveloperSkillsNetworkPY0221ENSkillsNetwork23455645-2022-01-01\" target=\"_blank\">\n",
    "    <img src=\"https://cf-courses-data.s3.us.cloud-object-storage.appdomain.cloud/assets/logos/SN_web_lightmode.png\" width=\"200\" alt=\"Skills Network Logo\"  />\n",
    "    </a>\n",
    "</p>\n"
   ]
  },
  {
   "cell_type": "markdown",
   "metadata": {},
   "source": [
    "# Peer Review Assignment - Data Engineer - Webscraping\n"
   ]
  },
  {
   "cell_type": "markdown",
   "metadata": {},
   "source": [
    "Estimated time needed: **20** minutes\n"
   ]
  },
  {
   "cell_type": "markdown",
   "metadata": {},
   "source": [
    "## Objectives\n",
    "\n",
    "In this part you will:\n",
    "\n",
    "*   Use webscraping to get bank information\n"
   ]
  },
  {
   "cell_type": "markdown",
   "metadata": {},
   "source": [
    "For this lab, we are going to be using Python and several Python libraries. Some of these libraries might be installed in your lab environment or in SN Labs. Others may need to be installed by you. The cells below will install these libraries when executed.\n"
   ]
  },
  {
   "cell_type": "code",
   "execution_count": null,
   "metadata": {},
   "outputs": [],
   "source": [
    "#!mamba install pandas==1.3.3 -y\n",
    "#!mamba install requests==2.26.0 -y\n",
    "!mamba install bs4==4.10.0 -y\n",
    "!mamba install html5lib==1.1 -y"
   ]
  },
  {
   "cell_type": "markdown",
   "metadata": {},
   "source": [
    "## Imports\n",
    "\n",
    "Import any additional libraries you may need here.\n"
   ]
  },
  {
   "cell_type": "code",
   "execution_count": 1,
   "metadata": {},
   "outputs": [],
   "source": [
    "from bs4 import BeautifulSoup\n",
    "import html5lib\n",
    "import lxml\n",
    "import requests\n",
    "import pandas as pd"
   ]
  },
  {
   "cell_type": "markdown",
   "metadata": {},
   "source": [
    "## Extract Data Using Web Scraping\n"
   ]
  },
  {
   "cell_type": "markdown",
   "metadata": {},
   "source": [
    "The wikipedia webpage [https://en.wikipedia.org/wiki/List_of_largest_banks](https://en.wikipedia.org/wiki/List_of_largest_banks?utm_medium=Exinfluencer&utm_source=Exinfluencer&utm_content=000026UJ&utm_term=10006555&utm_id=NA-SkillsNetwork-Channel-SkillsNetworkCoursesIBMDeveloperSkillsNetworkPY0221ENSkillsNetwork23455645-2022-01-01) provides information about largest banks in the world by various parameters. Scrape the data from the table 'By market capitalization' and store it in a JSON file.\n"
   ]
  },
  {
   "cell_type": "markdown",
   "metadata": {},
   "source": [
    "### Webpage Contents\n",
    "\n",
    "Gather the contents of the webpage in text format using the `requests` library and assign it to the variable <code>html_data</code>\n"
   ]
  },
  {
   "cell_type": "code",
   "execution_count": 2,
   "metadata": {},
   "outputs": [],
   "source": [
    "#Write your code here\n",
    "url='https://en.wikipedia.org/wiki/List_of_largest_banks'\n",
    "html_data=requests.get(url).text"
   ]
  },
  {
   "cell_type": "markdown",
   "metadata": {},
   "source": [
    "<b>Question 1</b> Print out the output of the following line, and remember it as it will be a quiz question:\n"
   ]
  },
  {
   "cell_type": "code",
   "execution_count": 3,
   "metadata": {},
   "outputs": [
    {
     "data": {
      "text/plain": [
       "'List of largest banks -'"
      ]
     },
     "execution_count": 3,
     "metadata": {},
     "output_type": "execute_result"
    }
   ],
   "source": [
    "html_data[101:124]"
   ]
  },
  {
   "cell_type": "markdown",
   "metadata": {},
   "source": [
    "### Scraping the Data\n",
    "\n",
    "<b> Question 2</b> Using the contents and `beautiful soup` load the data from the `By market capitalization` table into a `pandas` dataframe. The dataframe should have the bank `Name` and `Market Cap (US$ Billion)` as column names.  Display the first five rows using head.\n"
   ]
  },
  {
   "cell_type": "markdown",
   "metadata": {},
   "source": [
    "Using BeautifulSoup parse the contents of the webpage.\n"
   ]
  },
  {
   "cell_type": "code",
   "execution_count": 4,
   "metadata": {},
   "outputs": [],
   "source": [
    "#Replace the dots below\n",
    "soup=BeautifulSoup(html_data,'lxml')"
   ]
  },
  {
   "cell_type": "code",
   "execution_count": 5,
   "metadata": {},
   "outputs": [],
   "source": [
    "target_table = soup.find('table',{'class':'wikitable sortable mw-collapsible'})"
   ]
  },
  {
   "cell_type": "markdown",
   "metadata": {},
   "source": [
    "Load the data from the `By market capitalization` table into a pandas dataframe. The dataframe should have the bank `Name` and `Market Cap (US$ Billion)` as column names. Using the empty dataframe `data` and the given loop extract the necessary data from each row and append it to the empty dataframe.\n"
   ]
  },
  {
   "cell_type": "code",
   "execution_count": 6,
   "metadata": {},
   "outputs": [
    {
     "name": "stderr",
     "output_type": "stream",
     "text": [
      "C:\\Users\\eXa\\AppData\\Local\\Temp\\ipykernel_9220\\3320772079.py:10: FutureWarning: The frame.append method is deprecated and will be removed from pandas in a future version. Use pandas.concat instead.\n",
      "  data = data.append({\"Name\":name, \"Market Cap (US$ Billion)\":MC}, ignore_index=True)\n",
      "C:\\Users\\eXa\\AppData\\Local\\Temp\\ipykernel_9220\\3320772079.py:10: FutureWarning: The frame.append method is deprecated and will be removed from pandas in a future version. Use pandas.concat instead.\n",
      "  data = data.append({\"Name\":name, \"Market Cap (US$ Billion)\":MC}, ignore_index=True)\n",
      "C:\\Users\\eXa\\AppData\\Local\\Temp\\ipykernel_9220\\3320772079.py:10: FutureWarning: The frame.append method is deprecated and will be removed from pandas in a future version. Use pandas.concat instead.\n",
      "  data = data.append({\"Name\":name, \"Market Cap (US$ Billion)\":MC}, ignore_index=True)\n",
      "C:\\Users\\eXa\\AppData\\Local\\Temp\\ipykernel_9220\\3320772079.py:10: FutureWarning: The frame.append method is deprecated and will be removed from pandas in a future version. Use pandas.concat instead.\n",
      "  data = data.append({\"Name\":name, \"Market Cap (US$ Billion)\":MC}, ignore_index=True)\n",
      "C:\\Users\\eXa\\AppData\\Local\\Temp\\ipykernel_9220\\3320772079.py:10: FutureWarning: The frame.append method is deprecated and will be removed from pandas in a future version. Use pandas.concat instead.\n",
      "  data = data.append({\"Name\":name, \"Market Cap (US$ Billion)\":MC}, ignore_index=True)\n",
      "C:\\Users\\eXa\\AppData\\Local\\Temp\\ipykernel_9220\\3320772079.py:10: FutureWarning: The frame.append method is deprecated and will be removed from pandas in a future version. Use pandas.concat instead.\n",
      "  data = data.append({\"Name\":name, \"Market Cap (US$ Billion)\":MC}, ignore_index=True)\n",
      "C:\\Users\\eXa\\AppData\\Local\\Temp\\ipykernel_9220\\3320772079.py:10: FutureWarning: The frame.append method is deprecated and will be removed from pandas in a future version. Use pandas.concat instead.\n",
      "  data = data.append({\"Name\":name, \"Market Cap (US$ Billion)\":MC}, ignore_index=True)\n",
      "C:\\Users\\eXa\\AppData\\Local\\Temp\\ipykernel_9220\\3320772079.py:10: FutureWarning: The frame.append method is deprecated and will be removed from pandas in a future version. Use pandas.concat instead.\n",
      "  data = data.append({\"Name\":name, \"Market Cap (US$ Billion)\":MC}, ignore_index=True)\n",
      "C:\\Users\\eXa\\AppData\\Local\\Temp\\ipykernel_9220\\3320772079.py:10: FutureWarning: The frame.append method is deprecated and will be removed from pandas in a future version. Use pandas.concat instead.\n",
      "  data = data.append({\"Name\":name, \"Market Cap (US$ Billion)\":MC}, ignore_index=True)\n",
      "C:\\Users\\eXa\\AppData\\Local\\Temp\\ipykernel_9220\\3320772079.py:10: FutureWarning: The frame.append method is deprecated and will be removed from pandas in a future version. Use pandas.concat instead.\n",
      "  data = data.append({\"Name\":name, \"Market Cap (US$ Billion)\":MC}, ignore_index=True)\n",
      "C:\\Users\\eXa\\AppData\\Local\\Temp\\ipykernel_9220\\3320772079.py:10: FutureWarning: The frame.append method is deprecated and will be removed from pandas in a future version. Use pandas.concat instead.\n",
      "  data = data.append({\"Name\":name, \"Market Cap (US$ Billion)\":MC}, ignore_index=True)\n",
      "C:\\Users\\eXa\\AppData\\Local\\Temp\\ipykernel_9220\\3320772079.py:10: FutureWarning: The frame.append method is deprecated and will be removed from pandas in a future version. Use pandas.concat instead.\n",
      "  data = data.append({\"Name\":name, \"Market Cap (US$ Billion)\":MC}, ignore_index=True)\n",
      "C:\\Users\\eXa\\AppData\\Local\\Temp\\ipykernel_9220\\3320772079.py:10: FutureWarning: The frame.append method is deprecated and will be removed from pandas in a future version. Use pandas.concat instead.\n",
      "  data = data.append({\"Name\":name, \"Market Cap (US$ Billion)\":MC}, ignore_index=True)\n",
      "C:\\Users\\eXa\\AppData\\Local\\Temp\\ipykernel_9220\\3320772079.py:10: FutureWarning: The frame.append method is deprecated and will be removed from pandas in a future version. Use pandas.concat instead.\n",
      "  data = data.append({\"Name\":name, \"Market Cap (US$ Billion)\":MC}, ignore_index=True)\n",
      "C:\\Users\\eXa\\AppData\\Local\\Temp\\ipykernel_9220\\3320772079.py:10: FutureWarning: The frame.append method is deprecated and will be removed from pandas in a future version. Use pandas.concat instead.\n",
      "  data = data.append({\"Name\":name, \"Market Cap (US$ Billion)\":MC}, ignore_index=True)\n",
      "C:\\Users\\eXa\\AppData\\Local\\Temp\\ipykernel_9220\\3320772079.py:10: FutureWarning: The frame.append method is deprecated and will be removed from pandas in a future version. Use pandas.concat instead.\n",
      "  data = data.append({\"Name\":name, \"Market Cap (US$ Billion)\":MC}, ignore_index=True)\n",
      "C:\\Users\\eXa\\AppData\\Local\\Temp\\ipykernel_9220\\3320772079.py:10: FutureWarning: The frame.append method is deprecated and will be removed from pandas in a future version. Use pandas.concat instead.\n",
      "  data = data.append({\"Name\":name, \"Market Cap (US$ Billion)\":MC}, ignore_index=True)\n",
      "C:\\Users\\eXa\\AppData\\Local\\Temp\\ipykernel_9220\\3320772079.py:10: FutureWarning: The frame.append method is deprecated and will be removed from pandas in a future version. Use pandas.concat instead.\n",
      "  data = data.append({\"Name\":name, \"Market Cap (US$ Billion)\":MC}, ignore_index=True)\n",
      "C:\\Users\\eXa\\AppData\\Local\\Temp\\ipykernel_9220\\3320772079.py:10: FutureWarning: The frame.append method is deprecated and will be removed from pandas in a future version. Use pandas.concat instead.\n",
      "  data = data.append({\"Name\":name, \"Market Cap (US$ Billion)\":MC}, ignore_index=True)\n",
      "C:\\Users\\eXa\\AppData\\Local\\Temp\\ipykernel_9220\\3320772079.py:10: FutureWarning: The frame.append method is deprecated and will be removed from pandas in a future version. Use pandas.concat instead.\n",
      "  data = data.append({\"Name\":name, \"Market Cap (US$ Billion)\":MC}, ignore_index=True)\n",
      "C:\\Users\\eXa\\AppData\\Local\\Temp\\ipykernel_9220\\3320772079.py:10: FutureWarning: The frame.append method is deprecated and will be removed from pandas in a future version. Use pandas.concat instead.\n",
      "  data = data.append({\"Name\":name, \"Market Cap (US$ Billion)\":MC}, ignore_index=True)\n",
      "C:\\Users\\eXa\\AppData\\Local\\Temp\\ipykernel_9220\\3320772079.py:10: FutureWarning: The frame.append method is deprecated and will be removed from pandas in a future version. Use pandas.concat instead.\n",
      "  data = data.append({\"Name\":name, \"Market Cap (US$ Billion)\":MC}, ignore_index=True)\n",
      "C:\\Users\\eXa\\AppData\\Local\\Temp\\ipykernel_9220\\3320772079.py:10: FutureWarning: The frame.append method is deprecated and will be removed from pandas in a future version. Use pandas.concat instead.\n",
      "  data = data.append({\"Name\":name, \"Market Cap (US$ Billion)\":MC}, ignore_index=True)\n",
      "C:\\Users\\eXa\\AppData\\Local\\Temp\\ipykernel_9220\\3320772079.py:10: FutureWarning: The frame.append method is deprecated and will be removed from pandas in a future version. Use pandas.concat instead.\n",
      "  data = data.append({\"Name\":name, \"Market Cap (US$ Billion)\":MC}, ignore_index=True)\n",
      "C:\\Users\\eXa\\AppData\\Local\\Temp\\ipykernel_9220\\3320772079.py:10: FutureWarning: The frame.append method is deprecated and will be removed from pandas in a future version. Use pandas.concat instead.\n",
      "  data = data.append({\"Name\":name, \"Market Cap (US$ Billion)\":MC}, ignore_index=True)\n",
      "C:\\Users\\eXa\\AppData\\Local\\Temp\\ipykernel_9220\\3320772079.py:10: FutureWarning: The frame.append method is deprecated and will be removed from pandas in a future version. Use pandas.concat instead.\n",
      "  data = data.append({\"Name\":name, \"Market Cap (US$ Billion)\":MC}, ignore_index=True)\n",
      "C:\\Users\\eXa\\AppData\\Local\\Temp\\ipykernel_9220\\3320772079.py:10: FutureWarning: The frame.append method is deprecated and will be removed from pandas in a future version. Use pandas.concat instead.\n",
      "  data = data.append({\"Name\":name, \"Market Cap (US$ Billion)\":MC}, ignore_index=True)\n",
      "C:\\Users\\eXa\\AppData\\Local\\Temp\\ipykernel_9220\\3320772079.py:10: FutureWarning: The frame.append method is deprecated and will be removed from pandas in a future version. Use pandas.concat instead.\n",
      "  data = data.append({\"Name\":name, \"Market Cap (US$ Billion)\":MC}, ignore_index=True)\n",
      "C:\\Users\\eXa\\AppData\\Local\\Temp\\ipykernel_9220\\3320772079.py:10: FutureWarning: The frame.append method is deprecated and will be removed from pandas in a future version. Use pandas.concat instead.\n",
      "  data = data.append({\"Name\":name, \"Market Cap (US$ Billion)\":MC}, ignore_index=True)\n",
      "C:\\Users\\eXa\\AppData\\Local\\Temp\\ipykernel_9220\\3320772079.py:10: FutureWarning: The frame.append method is deprecated and will be removed from pandas in a future version. Use pandas.concat instead.\n",
      "  data = data.append({\"Name\":name, \"Market Cap (US$ Billion)\":MC}, ignore_index=True)\n",
      "C:\\Users\\eXa\\AppData\\Local\\Temp\\ipykernel_9220\\3320772079.py:10: FutureWarning: The frame.append method is deprecated and will be removed from pandas in a future version. Use pandas.concat instead.\n",
      "  data = data.append({\"Name\":name, \"Market Cap (US$ Billion)\":MC}, ignore_index=True)\n",
      "C:\\Users\\eXa\\AppData\\Local\\Temp\\ipykernel_9220\\3320772079.py:10: FutureWarning: The frame.append method is deprecated and will be removed from pandas in a future version. Use pandas.concat instead.\n",
      "  data = data.append({\"Name\":name, \"Market Cap (US$ Billion)\":MC}, ignore_index=True)\n",
      "C:\\Users\\eXa\\AppData\\Local\\Temp\\ipykernel_9220\\3320772079.py:10: FutureWarning: The frame.append method is deprecated and will be removed from pandas in a future version. Use pandas.concat instead.\n",
      "  data = data.append({\"Name\":name, \"Market Cap (US$ Billion)\":MC}, ignore_index=True)\n",
      "C:\\Users\\eXa\\AppData\\Local\\Temp\\ipykernel_9220\\3320772079.py:10: FutureWarning: The frame.append method is deprecated and will be removed from pandas in a future version. Use pandas.concat instead.\n",
      "  data = data.append({\"Name\":name, \"Market Cap (US$ Billion)\":MC}, ignore_index=True)\n",
      "C:\\Users\\eXa\\AppData\\Local\\Temp\\ipykernel_9220\\3320772079.py:10: FutureWarning: The frame.append method is deprecated and will be removed from pandas in a future version. Use pandas.concat instead.\n",
      "  data = data.append({\"Name\":name, \"Market Cap (US$ Billion)\":MC}, ignore_index=True)\n",
      "C:\\Users\\eXa\\AppData\\Local\\Temp\\ipykernel_9220\\3320772079.py:10: FutureWarning: The frame.append method is deprecated and will be removed from pandas in a future version. Use pandas.concat instead.\n",
      "  data = data.append({\"Name\":name, \"Market Cap (US$ Billion)\":MC}, ignore_index=True)\n",
      "C:\\Users\\eXa\\AppData\\Local\\Temp\\ipykernel_9220\\3320772079.py:10: FutureWarning: The frame.append method is deprecated and will be removed from pandas in a future version. Use pandas.concat instead.\n",
      "  data = data.append({\"Name\":name, \"Market Cap (US$ Billion)\":MC}, ignore_index=True)\n",
      "C:\\Users\\eXa\\AppData\\Local\\Temp\\ipykernel_9220\\3320772079.py:10: FutureWarning: The frame.append method is deprecated and will be removed from pandas in a future version. Use pandas.concat instead.\n",
      "  data = data.append({\"Name\":name, \"Market Cap (US$ Billion)\":MC}, ignore_index=True)\n",
      "C:\\Users\\eXa\\AppData\\Local\\Temp\\ipykernel_9220\\3320772079.py:10: FutureWarning: The frame.append method is deprecated and will be removed from pandas in a future version. Use pandas.concat instead.\n",
      "  data = data.append({\"Name\":name, \"Market Cap (US$ Billion)\":MC}, ignore_index=True)\n",
      "C:\\Users\\eXa\\AppData\\Local\\Temp\\ipykernel_9220\\3320772079.py:10: FutureWarning: The frame.append method is deprecated and will be removed from pandas in a future version. Use pandas.concat instead.\n",
      "  data = data.append({\"Name\":name, \"Market Cap (US$ Billion)\":MC}, ignore_index=True)\n",
      "C:\\Users\\eXa\\AppData\\Local\\Temp\\ipykernel_9220\\3320772079.py:10: FutureWarning: The frame.append method is deprecated and will be removed from pandas in a future version. Use pandas.concat instead.\n",
      "  data = data.append({\"Name\":name, \"Market Cap (US$ Billion)\":MC}, ignore_index=True)\n",
      "C:\\Users\\eXa\\AppData\\Local\\Temp\\ipykernel_9220\\3320772079.py:10: FutureWarning: The frame.append method is deprecated and will be removed from pandas in a future version. Use pandas.concat instead.\n",
      "  data = data.append({\"Name\":name, \"Market Cap (US$ Billion)\":MC}, ignore_index=True)\n",
      "C:\\Users\\eXa\\AppData\\Local\\Temp\\ipykernel_9220\\3320772079.py:10: FutureWarning: The frame.append method is deprecated and will be removed from pandas in a future version. Use pandas.concat instead.\n",
      "  data = data.append({\"Name\":name, \"Market Cap (US$ Billion)\":MC}, ignore_index=True)\n",
      "C:\\Users\\eXa\\AppData\\Local\\Temp\\ipykernel_9220\\3320772079.py:10: FutureWarning: The frame.append method is deprecated and will be removed from pandas in a future version. Use pandas.concat instead.\n",
      "  data = data.append({\"Name\":name, \"Market Cap (US$ Billion)\":MC}, ignore_index=True)\n",
      "C:\\Users\\eXa\\AppData\\Local\\Temp\\ipykernel_9220\\3320772079.py:10: FutureWarning: The frame.append method is deprecated and will be removed from pandas in a future version. Use pandas.concat instead.\n",
      "  data = data.append({\"Name\":name, \"Market Cap (US$ Billion)\":MC}, ignore_index=True)\n",
      "C:\\Users\\eXa\\AppData\\Local\\Temp\\ipykernel_9220\\3320772079.py:10: FutureWarning: The frame.append method is deprecated and will be removed from pandas in a future version. Use pandas.concat instead.\n",
      "  data = data.append({\"Name\":name, \"Market Cap (US$ Billion)\":MC}, ignore_index=True)\n",
      "C:\\Users\\eXa\\AppData\\Local\\Temp\\ipykernel_9220\\3320772079.py:10: FutureWarning: The frame.append method is deprecated and will be removed from pandas in a future version. Use pandas.concat instead.\n",
      "  data = data.append({\"Name\":name, \"Market Cap (US$ Billion)\":MC}, ignore_index=True)\n",
      "C:\\Users\\eXa\\AppData\\Local\\Temp\\ipykernel_9220\\3320772079.py:10: FutureWarning: The frame.append method is deprecated and will be removed from pandas in a future version. Use pandas.concat instead.\n",
      "  data = data.append({\"Name\":name, \"Market Cap (US$ Billion)\":MC}, ignore_index=True)\n",
      "C:\\Users\\eXa\\AppData\\Local\\Temp\\ipykernel_9220\\3320772079.py:10: FutureWarning: The frame.append method is deprecated and will be removed from pandas in a future version. Use pandas.concat instead.\n",
      "  data = data.append({\"Name\":name, \"Market Cap (US$ Billion)\":MC}, ignore_index=True)\n",
      "C:\\Users\\eXa\\AppData\\Local\\Temp\\ipykernel_9220\\3320772079.py:10: FutureWarning: The frame.append method is deprecated and will be removed from pandas in a future version. Use pandas.concat instead.\n",
      "  data = data.append({\"Name\":name, \"Market Cap (US$ Billion)\":MC}, ignore_index=True)\n",
      "C:\\Users\\eXa\\AppData\\Local\\Temp\\ipykernel_9220\\3320772079.py:10: FutureWarning: The frame.append method is deprecated and will be removed from pandas in a future version. Use pandas.concat instead.\n",
      "  data = data.append({\"Name\":name, \"Market Cap (US$ Billion)\":MC}, ignore_index=True)\n",
      "C:\\Users\\eXa\\AppData\\Local\\Temp\\ipykernel_9220\\3320772079.py:10: FutureWarning: The frame.append method is deprecated and will be removed from pandas in a future version. Use pandas.concat instead.\n",
      "  data = data.append({\"Name\":name, \"Market Cap (US$ Billion)\":MC}, ignore_index=True)\n",
      "C:\\Users\\eXa\\AppData\\Local\\Temp\\ipykernel_9220\\3320772079.py:10: FutureWarning: The frame.append method is deprecated and will be removed from pandas in a future version. Use pandas.concat instead.\n",
      "  data = data.append({\"Name\":name, \"Market Cap (US$ Billion)\":MC}, ignore_index=True)\n",
      "C:\\Users\\eXa\\AppData\\Local\\Temp\\ipykernel_9220\\3320772079.py:10: FutureWarning: The frame.append method is deprecated and will be removed from pandas in a future version. Use pandas.concat instead.\n",
      "  data = data.append({\"Name\":name, \"Market Cap (US$ Billion)\":MC}, ignore_index=True)\n",
      "C:\\Users\\eXa\\AppData\\Local\\Temp\\ipykernel_9220\\3320772079.py:10: FutureWarning: The frame.append method is deprecated and will be removed from pandas in a future version. Use pandas.concat instead.\n",
      "  data = data.append({\"Name\":name, \"Market Cap (US$ Billion)\":MC}, ignore_index=True)\n",
      "C:\\Users\\eXa\\AppData\\Local\\Temp\\ipykernel_9220\\3320772079.py:10: FutureWarning: The frame.append method is deprecated and will be removed from pandas in a future version. Use pandas.concat instead.\n",
      "  data = data.append({\"Name\":name, \"Market Cap (US$ Billion)\":MC}, ignore_index=True)\n",
      "C:\\Users\\eXa\\AppData\\Local\\Temp\\ipykernel_9220\\3320772079.py:10: FutureWarning: The frame.append method is deprecated and will be removed from pandas in a future version. Use pandas.concat instead.\n",
      "  data = data.append({\"Name\":name, \"Market Cap (US$ Billion)\":MC}, ignore_index=True)\n",
      "C:\\Users\\eXa\\AppData\\Local\\Temp\\ipykernel_9220\\3320772079.py:10: FutureWarning: The frame.append method is deprecated and will be removed from pandas in a future version. Use pandas.concat instead.\n",
      "  data = data.append({\"Name\":name, \"Market Cap (US$ Billion)\":MC}, ignore_index=True)\n",
      "C:\\Users\\eXa\\AppData\\Local\\Temp\\ipykernel_9220\\3320772079.py:10: FutureWarning: The frame.append method is deprecated and will be removed from pandas in a future version. Use pandas.concat instead.\n",
      "  data = data.append({\"Name\":name, \"Market Cap (US$ Billion)\":MC}, ignore_index=True)\n",
      "C:\\Users\\eXa\\AppData\\Local\\Temp\\ipykernel_9220\\3320772079.py:10: FutureWarning: The frame.append method is deprecated and will be removed from pandas in a future version. Use pandas.concat instead.\n",
      "  data = data.append({\"Name\":name, \"Market Cap (US$ Billion)\":MC}, ignore_index=True)\n",
      "C:\\Users\\eXa\\AppData\\Local\\Temp\\ipykernel_9220\\3320772079.py:10: FutureWarning: The frame.append method is deprecated and will be removed from pandas in a future version. Use pandas.concat instead.\n",
      "  data = data.append({\"Name\":name, \"Market Cap (US$ Billion)\":MC}, ignore_index=True)\n",
      "C:\\Users\\eXa\\AppData\\Local\\Temp\\ipykernel_9220\\3320772079.py:10: FutureWarning: The frame.append method is deprecated and will be removed from pandas in a future version. Use pandas.concat instead.\n",
      "  data = data.append({\"Name\":name, \"Market Cap (US$ Billion)\":MC}, ignore_index=True)\n",
      "C:\\Users\\eXa\\AppData\\Local\\Temp\\ipykernel_9220\\3320772079.py:10: FutureWarning: The frame.append method is deprecated and will be removed from pandas in a future version. Use pandas.concat instead.\n",
      "  data = data.append({\"Name\":name, \"Market Cap (US$ Billion)\":MC}, ignore_index=True)\n",
      "C:\\Users\\eXa\\AppData\\Local\\Temp\\ipykernel_9220\\3320772079.py:10: FutureWarning: The frame.append method is deprecated and will be removed from pandas in a future version. Use pandas.concat instead.\n",
      "  data = data.append({\"Name\":name, \"Market Cap (US$ Billion)\":MC}, ignore_index=True)\n",
      "C:\\Users\\eXa\\AppData\\Local\\Temp\\ipykernel_9220\\3320772079.py:10: FutureWarning: The frame.append method is deprecated and will be removed from pandas in a future version. Use pandas.concat instead.\n",
      "  data = data.append({\"Name\":name, \"Market Cap (US$ Billion)\":MC}, ignore_index=True)\n",
      "C:\\Users\\eXa\\AppData\\Local\\Temp\\ipykernel_9220\\3320772079.py:10: FutureWarning: The frame.append method is deprecated and will be removed from pandas in a future version. Use pandas.concat instead.\n",
      "  data = data.append({\"Name\":name, \"Market Cap (US$ Billion)\":MC}, ignore_index=True)\n",
      "C:\\Users\\eXa\\AppData\\Local\\Temp\\ipykernel_9220\\3320772079.py:10: FutureWarning: The frame.append method is deprecated and will be removed from pandas in a future version. Use pandas.concat instead.\n",
      "  data = data.append({\"Name\":name, \"Market Cap (US$ Billion)\":MC}, ignore_index=True)\n",
      "C:\\Users\\eXa\\AppData\\Local\\Temp\\ipykernel_9220\\3320772079.py:10: FutureWarning: The frame.append method is deprecated and will be removed from pandas in a future version. Use pandas.concat instead.\n",
      "  data = data.append({\"Name\":name, \"Market Cap (US$ Billion)\":MC}, ignore_index=True)\n",
      "C:\\Users\\eXa\\AppData\\Local\\Temp\\ipykernel_9220\\3320772079.py:10: FutureWarning: The frame.append method is deprecated and will be removed from pandas in a future version. Use pandas.concat instead.\n",
      "  data = data.append({\"Name\":name, \"Market Cap (US$ Billion)\":MC}, ignore_index=True)\n",
      "C:\\Users\\eXa\\AppData\\Local\\Temp\\ipykernel_9220\\3320772079.py:10: FutureWarning: The frame.append method is deprecated and will be removed from pandas in a future version. Use pandas.concat instead.\n",
      "  data = data.append({\"Name\":name, \"Market Cap (US$ Billion)\":MC}, ignore_index=True)\n",
      "C:\\Users\\eXa\\AppData\\Local\\Temp\\ipykernel_9220\\3320772079.py:10: FutureWarning: The frame.append method is deprecated and will be removed from pandas in a future version. Use pandas.concat instead.\n",
      "  data = data.append({\"Name\":name, \"Market Cap (US$ Billion)\":MC}, ignore_index=True)\n",
      "C:\\Users\\eXa\\AppData\\Local\\Temp\\ipykernel_9220\\3320772079.py:10: FutureWarning: The frame.append method is deprecated and will be removed from pandas in a future version. Use pandas.concat instead.\n",
      "  data = data.append({\"Name\":name, \"Market Cap (US$ Billion)\":MC}, ignore_index=True)\n",
      "C:\\Users\\eXa\\AppData\\Local\\Temp\\ipykernel_9220\\3320772079.py:10: FutureWarning: The frame.append method is deprecated and will be removed from pandas in a future version. Use pandas.concat instead.\n",
      "  data = data.append({\"Name\":name, \"Market Cap (US$ Billion)\":MC}, ignore_index=True)\n",
      "C:\\Users\\eXa\\AppData\\Local\\Temp\\ipykernel_9220\\3320772079.py:10: FutureWarning: The frame.append method is deprecated and will be removed from pandas in a future version. Use pandas.concat instead.\n",
      "  data = data.append({\"Name\":name, \"Market Cap (US$ Billion)\":MC}, ignore_index=True)\n",
      "C:\\Users\\eXa\\AppData\\Local\\Temp\\ipykernel_9220\\3320772079.py:10: FutureWarning: The frame.append method is deprecated and will be removed from pandas in a future version. Use pandas.concat instead.\n",
      "  data = data.append({\"Name\":name, \"Market Cap (US$ Billion)\":MC}, ignore_index=True)\n",
      "C:\\Users\\eXa\\AppData\\Local\\Temp\\ipykernel_9220\\3320772079.py:10: FutureWarning: The frame.append method is deprecated and will be removed from pandas in a future version. Use pandas.concat instead.\n",
      "  data = data.append({\"Name\":name, \"Market Cap (US$ Billion)\":MC}, ignore_index=True)\n",
      "C:\\Users\\eXa\\AppData\\Local\\Temp\\ipykernel_9220\\3320772079.py:10: FutureWarning: The frame.append method is deprecated and will be removed from pandas in a future version. Use pandas.concat instead.\n",
      "  data = data.append({\"Name\":name, \"Market Cap (US$ Billion)\":MC}, ignore_index=True)\n",
      "C:\\Users\\eXa\\AppData\\Local\\Temp\\ipykernel_9220\\3320772079.py:10: FutureWarning: The frame.append method is deprecated and will be removed from pandas in a future version. Use pandas.concat instead.\n",
      "  data = data.append({\"Name\":name, \"Market Cap (US$ Billion)\":MC}, ignore_index=True)\n",
      "C:\\Users\\eXa\\AppData\\Local\\Temp\\ipykernel_9220\\3320772079.py:10: FutureWarning: The frame.append method is deprecated and will be removed from pandas in a future version. Use pandas.concat instead.\n",
      "  data = data.append({\"Name\":name, \"Market Cap (US$ Billion)\":MC}, ignore_index=True)\n",
      "C:\\Users\\eXa\\AppData\\Local\\Temp\\ipykernel_9220\\3320772079.py:10: FutureWarning: The frame.append method is deprecated and will be removed from pandas in a future version. Use pandas.concat instead.\n",
      "  data = data.append({\"Name\":name, \"Market Cap (US$ Billion)\":MC}, ignore_index=True)\n",
      "C:\\Users\\eXa\\AppData\\Local\\Temp\\ipykernel_9220\\3320772079.py:10: FutureWarning: The frame.append method is deprecated and will be removed from pandas in a future version. Use pandas.concat instead.\n",
      "  data = data.append({\"Name\":name, \"Market Cap (US$ Billion)\":MC}, ignore_index=True)\n",
      "C:\\Users\\eXa\\AppData\\Local\\Temp\\ipykernel_9220\\3320772079.py:10: FutureWarning: The frame.append method is deprecated and will be removed from pandas in a future version. Use pandas.concat instead.\n",
      "  data = data.append({\"Name\":name, \"Market Cap (US$ Billion)\":MC}, ignore_index=True)\n",
      "C:\\Users\\eXa\\AppData\\Local\\Temp\\ipykernel_9220\\3320772079.py:10: FutureWarning: The frame.append method is deprecated and will be removed from pandas in a future version. Use pandas.concat instead.\n",
      "  data = data.append({\"Name\":name, \"Market Cap (US$ Billion)\":MC}, ignore_index=True)\n",
      "C:\\Users\\eXa\\AppData\\Local\\Temp\\ipykernel_9220\\3320772079.py:10: FutureWarning: The frame.append method is deprecated and will be removed from pandas in a future version. Use pandas.concat instead.\n",
      "  data = data.append({\"Name\":name, \"Market Cap (US$ Billion)\":MC}, ignore_index=True)\n",
      "C:\\Users\\eXa\\AppData\\Local\\Temp\\ipykernel_9220\\3320772079.py:10: FutureWarning: The frame.append method is deprecated and will be removed from pandas in a future version. Use pandas.concat instead.\n",
      "  data = data.append({\"Name\":name, \"Market Cap (US$ Billion)\":MC}, ignore_index=True)\n",
      "C:\\Users\\eXa\\AppData\\Local\\Temp\\ipykernel_9220\\3320772079.py:10: FutureWarning: The frame.append method is deprecated and will be removed from pandas in a future version. Use pandas.concat instead.\n",
      "  data = data.append({\"Name\":name, \"Market Cap (US$ Billion)\":MC}, ignore_index=True)\n",
      "C:\\Users\\eXa\\AppData\\Local\\Temp\\ipykernel_9220\\3320772079.py:10: FutureWarning: The frame.append method is deprecated and will be removed from pandas in a future version. Use pandas.concat instead.\n",
      "  data = data.append({\"Name\":name, \"Market Cap (US$ Billion)\":MC}, ignore_index=True)\n",
      "C:\\Users\\eXa\\AppData\\Local\\Temp\\ipykernel_9220\\3320772079.py:10: FutureWarning: The frame.append method is deprecated and will be removed from pandas in a future version. Use pandas.concat instead.\n",
      "  data = data.append({\"Name\":name, \"Market Cap (US$ Billion)\":MC}, ignore_index=True)\n",
      "C:\\Users\\eXa\\AppData\\Local\\Temp\\ipykernel_9220\\3320772079.py:10: FutureWarning: The frame.append method is deprecated and will be removed from pandas in a future version. Use pandas.concat instead.\n",
      "  data = data.append({\"Name\":name, \"Market Cap (US$ Billion)\":MC}, ignore_index=True)\n",
      "C:\\Users\\eXa\\AppData\\Local\\Temp\\ipykernel_9220\\3320772079.py:10: FutureWarning: The frame.append method is deprecated and will be removed from pandas in a future version. Use pandas.concat instead.\n",
      "  data = data.append({\"Name\":name, \"Market Cap (US$ Billion)\":MC}, ignore_index=True)\n",
      "C:\\Users\\eXa\\AppData\\Local\\Temp\\ipykernel_9220\\3320772079.py:10: FutureWarning: The frame.append method is deprecated and will be removed from pandas in a future version. Use pandas.concat instead.\n",
      "  data = data.append({\"Name\":name, \"Market Cap (US$ Billion)\":MC}, ignore_index=True)\n",
      "C:\\Users\\eXa\\AppData\\Local\\Temp\\ipykernel_9220\\3320772079.py:10: FutureWarning: The frame.append method is deprecated and will be removed from pandas in a future version. Use pandas.concat instead.\n",
      "  data = data.append({\"Name\":name, \"Market Cap (US$ Billion)\":MC}, ignore_index=True)\n",
      "C:\\Users\\eXa\\AppData\\Local\\Temp\\ipykernel_9220\\3320772079.py:10: FutureWarning: The frame.append method is deprecated and will be removed from pandas in a future version. Use pandas.concat instead.\n",
      "  data = data.append({\"Name\":name, \"Market Cap (US$ Billion)\":MC}, ignore_index=True)\n",
      "C:\\Users\\eXa\\AppData\\Local\\Temp\\ipykernel_9220\\3320772079.py:10: FutureWarning: The frame.append method is deprecated and will be removed from pandas in a future version. Use pandas.concat instead.\n",
      "  data = data.append({\"Name\":name, \"Market Cap (US$ Billion)\":MC}, ignore_index=True)\n",
      "C:\\Users\\eXa\\AppData\\Local\\Temp\\ipykernel_9220\\3320772079.py:10: FutureWarning: The frame.append method is deprecated and will be removed from pandas in a future version. Use pandas.concat instead.\n",
      "  data = data.append({\"Name\":name, \"Market Cap (US$ Billion)\":MC}, ignore_index=True)\n",
      "C:\\Users\\eXa\\AppData\\Local\\Temp\\ipykernel_9220\\3320772079.py:10: FutureWarning: The frame.append method is deprecated and will be removed from pandas in a future version. Use pandas.concat instead.\n",
      "  data = data.append({\"Name\":name, \"Market Cap (US$ Billion)\":MC}, ignore_index=True)\n",
      "C:\\Users\\eXa\\AppData\\Local\\Temp\\ipykernel_9220\\3320772079.py:10: FutureWarning: The frame.append method is deprecated and will be removed from pandas in a future version. Use pandas.concat instead.\n",
      "  data = data.append({\"Name\":name, \"Market Cap (US$ Billion)\":MC}, ignore_index=True)\n",
      "C:\\Users\\eXa\\AppData\\Local\\Temp\\ipykernel_9220\\3320772079.py:10: FutureWarning: The frame.append method is deprecated and will be removed from pandas in a future version. Use pandas.concat instead.\n",
      "  data = data.append({\"Name\":name, \"Market Cap (US$ Billion)\":MC}, ignore_index=True)\n",
      "C:\\Users\\eXa\\AppData\\Local\\Temp\\ipykernel_9220\\3320772079.py:10: FutureWarning: The frame.append method is deprecated and will be removed from pandas in a future version. Use pandas.concat instead.\n",
      "  data = data.append({\"Name\":name, \"Market Cap (US$ Billion)\":MC}, ignore_index=True)\n",
      "C:\\Users\\eXa\\AppData\\Local\\Temp\\ipykernel_9220\\3320772079.py:10: FutureWarning: The frame.append method is deprecated and will be removed from pandas in a future version. Use pandas.concat instead.\n",
      "  data = data.append({\"Name\":name, \"Market Cap (US$ Billion)\":MC}, ignore_index=True)\n"
     ]
    }
   ],
   "source": [
    "data = pd.DataFrame(columns=[\"Name\", \"Market Cap (US$ Billion)\"])\n",
    "\n",
    "for row in target_table.find_all('tr'):\n",
    "    col = row.find_all('td')\n",
    "    #Write your code here\n",
    "    if (col != []):\n",
    "        name = col[1].text\n",
    "        name = name[:-1]\n",
    "        MC = col[2].text.strip()\n",
    "        data = data.append({\"Name\":name, \"Market Cap (US$ Billion)\":MC}, ignore_index=True)"
   ]
  },
  {
   "cell_type": "markdown",
   "metadata": {},
   "source": [
    "**Question 3** Display the first five rows using the `head` function.\n"
   ]
  },
  {
   "cell_type": "code",
   "execution_count": 7,
   "metadata": {},
   "outputs": [
    {
     "data": {
      "text/html": [
       "<div>\n",
       "<style scoped>\n",
       "    .dataframe tbody tr th:only-of-type {\n",
       "        vertical-align: middle;\n",
       "    }\n",
       "\n",
       "    .dataframe tbody tr th {\n",
       "        vertical-align: top;\n",
       "    }\n",
       "\n",
       "    .dataframe thead th {\n",
       "        text-align: right;\n",
       "    }\n",
       "</style>\n",
       "<table border=\"1\" class=\"dataframe\">\n",
       "  <thead>\n",
       "    <tr style=\"text-align: right;\">\n",
       "      <th></th>\n",
       "      <th>Name</th>\n",
       "      <th>Market Cap (US$ Billion)</th>\n",
       "    </tr>\n",
       "  </thead>\n",
       "  <tbody>\n",
       "    <tr>\n",
       "      <th>0</th>\n",
       "      <td>Industrial and Commercial Bank of China Limited</td>\n",
       "      <td>5,536.53</td>\n",
       "    </tr>\n",
       "    <tr>\n",
       "      <th>1</th>\n",
       "      <td>China Construction Bank</td>\n",
       "      <td>4,762.46</td>\n",
       "    </tr>\n",
       "    <tr>\n",
       "      <th>2</th>\n",
       "      <td>Agricultural Bank of China</td>\n",
       "      <td>4,575.95</td>\n",
       "    </tr>\n",
       "    <tr>\n",
       "      <th>3</th>\n",
       "      <td>Bank of China</td>\n",
       "      <td>4,206.53</td>\n",
       "    </tr>\n",
       "    <tr>\n",
       "      <th>4</th>\n",
       "      <td>JPMorgan Chase</td>\n",
       "      <td>3,743.57</td>\n",
       "    </tr>\n",
       "  </tbody>\n",
       "</table>\n",
       "</div>"
      ],
      "text/plain": [
       "                                               Name Market Cap (US$ Billion)\n",
       "0   Industrial and Commercial Bank of China Limited                 5,536.53\n",
       "1                           China Construction Bank                 4,762.46\n",
       "2                        Agricultural Bank of China                 4,575.95\n",
       "3                                     Bank of China                 4,206.53\n",
       "4                                    JPMorgan Chase                 3,743.57"
      ]
     },
     "execution_count": 7,
     "metadata": {},
     "output_type": "execute_result"
    }
   ],
   "source": [
    "#Write your code here\n",
    "data.head()"
   ]
  },
  {
   "cell_type": "markdown",
   "metadata": {},
   "source": [
    "### Loading the Data\n",
    "\n",
    "Usually you will Load the `pandas` dataframe created above into a JSON named `bank_market_cap.json` using the `to_json()` function, but this time the data will be sent to another team who will split the data file into two files and inspect it. If you save the data it will interfere with the next part of the assignment.\n"
   ]
  },
  {
   "cell_type": "code",
   "execution_count": 8,
   "metadata": {},
   "outputs": [],
   "source": [
    "#Write your code here\n",
    "data.to_json(\"bank_market_cap.json\")"
   ]
  },
  {
   "cell_type": "markdown",
   "metadata": {},
   "source": [
    "## Authors\n"
   ]
  },
  {
   "cell_type": "markdown",
   "metadata": {},
   "source": [
    "Ramesh Sannareddy, Joseph Santarcangelo and Azim Hirjani\n"
   ]
  },
  {
   "cell_type": "markdown",
   "metadata": {},
   "source": [
    "### Other Contributors\n"
   ]
  },
  {
   "cell_type": "markdown",
   "metadata": {},
   "source": [
    "Rav Ahuja\n"
   ]
  },
  {
   "cell_type": "markdown",
   "metadata": {},
   "source": [
    "## Change Log\n"
   ]
  },
  {
   "cell_type": "markdown",
   "metadata": {},
   "source": [
    "| Date (YYYY-MM-DD) | Version | Changed By          | Change Description                 |\n",
    "| ----------------- | ------- | ------------------- | ---------------------------------- |\n",
    "| 2022-07-12        | 0.2     | Appalabhaktula Hema | Corrected the code and markdown    |\n",
    "| 2020-11-25        | 0.1     | Ramesh Sannareddy   | Created initial version of the lab |\n"
   ]
  },
  {
   "cell_type": "markdown",
   "metadata": {},
   "source": [
    "Copyright © 2020 IBM Corporation.\n"
   ]
  }
 ],
 "metadata": {
  "kernelspec": {
   "display_name": "Python 3 (ipykernel)",
   "language": "python",
   "name": "python3"
  },
  "language_info": {
   "codemirror_mode": {
    "name": "ipython",
    "version": 3
   },
   "file_extension": ".py",
   "mimetype": "text/x-python",
   "name": "python",
   "nbconvert_exporter": "python",
   "pygments_lexer": "ipython3",
   "version": "3.11.1"
  }
 },
 "nbformat": 4,
 "nbformat_minor": 4
}
