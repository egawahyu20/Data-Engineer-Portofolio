{
 "cells": [
  {
   "attachments": {},
   "cell_type": "markdown",
   "metadata": {},
   "source": [
    "# Exercise 1: Using Joins"
   ]
  },
  {
   "attachments": {},
   "cell_type": "markdown",
   "metadata": {},
   "source": [
    "## Question 1: \n",
    "Write and execute a SQL query to list the school names, community names and average attendance for communities with a hardship index of 98."
   ]
  },
  {
   "attachments": {},
   "cell_type": "markdown",
   "metadata": {},
   "source": [
    "```\n",
    "SELECT cps.NAME_OF_SCHOOL, cps.COMMUNITY_AREA_NAME, cps.AVERAGE_STUDENT_ATTENDANCE\n",
    "FROM chicago_public_schools cps\n",
    "LEFT JOIN chicago_socioeconomic_data csd\n",
    "ON cps.COMMUNITY_AREA_NUMBER = csd.COMMUNITY_AREA_NUMBER\n",
    "WHERE csd.HARDSHIP_INDEX = 98\n",
    "```"
   ]
  },
  {
   "attachments": {},
   "cell_type": "markdown",
   "metadata": {},
   "source": [
    "![Alt text](question1.1.png)"
   ]
  },
  {
   "attachments": {},
   "cell_type": "markdown",
   "metadata": {},
   "source": [
    "## Question 2:\n",
    "\n",
    "Write and execute a SQL query to list all crimes that took place at a school. Include case number, crime type and community name."
   ]
  },
  {
   "attachments": {},
   "cell_type": "markdown",
   "metadata": {},
   "source": [
    "```\n",
    "SELECT cc.CASE_NUMBER, cc.PRIMARY_TYPE, csd.COMMUNITY_AREA_NAME\n",
    "FROM chicago_crime cc\n",
    "LEFT JOIN chicago_socioeconomic_data csd\n",
    "ON cc.COMMUNITY_AREA_NUMBER = csd.COMMUNITY_AREA_NUMBER\n",
    "WHERE cc.LOCATION_DESCRIPTION LIKE '%SCHOOL%'\n",
    "```"
   ]
  },
  {
   "attachments": {},
   "cell_type": "markdown",
   "metadata": {},
   "source": [
    "![Alt text](question1.2.png)"
   ]
  },
  {
   "attachments": {},
   "cell_type": "markdown",
   "metadata": {},
   "source": [
    "# Exercise 2: Creating a View"
   ]
  },
  {
   "attachments": {},
   "cell_type": "markdown",
   "metadata": {},
   "source": [
    "# Question 1\n",
    "\n",
    "Write and execute a SQL statement to create a view showing the columns listed in the following table, with new column names as shown in the second column.\n",
    "\n",
    "| Column name in CHICAGO_PUBLIC_SCHOOLS | Column name in view |\n",
    "|---------------------------------------|---------------------|\n",
    "| NAME_OF_SCHOOL                        | School_Name         |\n",
    "| Safety_Icon                           | Safety_Rating       |\n",
    "| Family_Involvement_Icon               | Family_Rating       |\n",
    "| Environment_Icon                      | Environment_Rating  |\n",
    "| Instruction_Icon                      | Instruction_Rating  |\n",
    "| Leaders_Icon                          | Leaders_Rating      |\n",
    "| Teachers_Icon                         | Teachers_Rating     |\n",
    "\n",
    "* Write and execute a SQL statement that returns all of the columns from the view.\n",
    "\n",
    "* Write and execute a SQL statement that returns just the school name and leaders rating from the view."
   ]
  },
  {
   "attachments": {},
   "cell_type": "markdown",
   "metadata": {},
   "source": [
    "```\n",
    "CREATE VIEW list_chicago_school AS\n",
    "SELECT\n",
    "    NAME_OF_SCHOOL AS School_Name,\n",
    "    Safety_Icon\tAS Safety_Rating,\n",
    "    Family_Involvement_Icon\tAS Family_Rating,\n",
    "    Environment_Icon AS Environment_Rating,\n",
    "    Instruction_Icon AS Instruction_Rating,\n",
    "    Leaders_Icon AS Leaders_Rating,\n",
    "    Teachers_Icon AS Teachers_Rating\n",
    "FROM chicago_public_schools;\n",
    "\n",
    "SELECT School_Name, Leaders_Rating\n",
    "FROM list_chicago_school;\n",
    "``"
   ]
  },
  {
   "attachments": {},
   "cell_type": "markdown",
   "metadata": {},
   "source": [
    "![Alt text](question2.1.png)"
   ]
  },
  {
   "attachments": {},
   "cell_type": "markdown",
   "metadata": {},
   "source": [
    "# Exercise 3: Creating a Stored Procedure"
   ]
  },
  {
   "attachments": {},
   "cell_type": "markdown",
   "metadata": {},
   "source": [
    "## Question 1\n",
    "\n",
    "Write the structure of a query to create or replace a stored procedure called UPDATE_LEADERS_SCORE that takes a in_School_ID parameter as an integer and a in_Leader_Score parameter as an integer."
   ]
  },
  {
   "attachments": {},
   "cell_type": "markdown",
   "metadata": {},
   "source": [
    "```\n",
    "--#SET TERMINATOR @ \n",
    "CREATE OR REPLACE PROCEDURE UPDATE_LEADERS_SCORE(\n",
    "\tIN in_School_ID INTEGER, \n",
    "\tIN in_Leader_Score INTEGER)\n",
    "LANGUAGE SQL\n",
    "READS SQL DATA\n",
    "\n",
    "DYNAMIC RESULT SETS 1\n",
    "BEGIN\n",
    "\n",
    "END @\n",
    "```"
   ]
  },
  {
   "attachments": {},
   "cell_type": "markdown",
   "metadata": {},
   "source": [
    "![Alt text](question3.1.png)"
   ]
  },
  {
   "attachments": {},
   "cell_type": "markdown",
   "metadata": {},
   "source": [
    "## Question 2\n",
    "Inside your stored procedure, write a SQL statement to update the Leaders_Score field in the CHICAGO_PUBLIC_SCHOOLS table for the school identified by in_School_ID to the value in the in_Leader_Score parameter."
   ]
  },
  {
   "attachments": {},
   "cell_type": "markdown",
   "metadata": {},
   "source": [
    "```\n",
    "--#SET TERMINATOR @ \n",
    "CREATE OR REPLACE PROCEDURE UPDATE_LEADERS_SCORE(\n",
    "\tIN in_School_ID INTEGER, \n",
    "\tIN in_Leader_Score INTEGER)\n",
    "LANGUAGE SQL\n",
    "MODIFIES SQL DATA\n",
    "\n",
    "DYNAMIC RESULT SETS 1\n",
    "BEGIN\n",
    "\tUPDATE CHICAGO_PUBLIC_SCHOOLS\n",
    "    SET Leaders_Score = in_Leader_Score\n",
    "    WHERE School_ID = in_School_ID;\n",
    "END @\n",
    "```"
   ]
  },
  {
   "attachments": {},
   "cell_type": "markdown",
   "metadata": {},
   "source": [
    "![Alt text](question3.2.png)"
   ]
  },
  {
   "attachments": {},
   "cell_type": "markdown",
   "metadata": {},
   "source": [
    "## Question 3\n",
    "\n",
    "Inside your stored procedure, write a SQL IF statement to update the Leaders_Icon field in the CHICAGO_PUBLIC_SCHOOLS table for the school identified by in_School_ID using the following information."
   ]
  },
  {
   "attachments": {},
   "cell_type": "markdown",
   "metadata": {},
   "source": [
    "| **Score lower limit** | **Score upper limit** | **Icon**    |\n",
    "|-----------------------|-----------------------|-------------|\n",
    "| 80                    | 99                    | Very strong |\n",
    "| 60                    | 79                    | Strong      |\n",
    "| 40                    | 59                    | Average     |\n",
    "| 20                    | 39                    | Weak        |\n",
    "| 0                     | 19                    | Very weak   |"
   ]
  },
  {
   "attachments": {},
   "cell_type": "markdown",
   "metadata": {},
   "source": [
    "```\n",
    "--#SET TERMINATOR @ \n",
    "CREATE OR REPLACE PROCEDURE UPDATE_LEADERS_SCORE(\n",
    "\tIN in_School_ID INTEGER, \n",
    "\tIN in_Leader_Score INTEGER)\n",
    "LANGUAGE SQL\n",
    "MODIFIES SQL DATA\n",
    "\n",
    "BEGIN \n",
    "\tUPDATE CHICAGO_PUBLIC_SCHOOLS\n",
    "\tSET \"Leaders_Score\" = in_Leader_Score\n",
    "\tWHERE \"School_ID\" = in_School_ID;\n",
    "\t\t\t\n",
    "\tIF in_Leader_Score > 0 AND in_Leader_Score < 20 THEN\n",
    "\t    UPDATE CHICAGO_PUBLIC_SCHOOLS\n",
    "\t\tSET \"Leaders_Icon\" = 'Very Weak';\n",
    "\tELSEIF in_Leader_Score < 40 THEN\n",
    "\t    UPDATE CHICAGO_PUBLIC_SCHOOLS\n",
    "\t\tSET \"Leaders_Icon\" = 'Weak';\t\n",
    "\tELSEIF in_Leader_Score < 60 THEN\n",
    "\t    UPDATE CHICAGO_PUBLIC_SCHOOLS\n",
    "\t\tSET \"Leaders_Icon\" = 'Average';\n",
    "\tELSEIF in_Leader_Score < 80 THEN\n",
    "\t\tUPDATE CHICAGO_PUBLIC_SCHOOLS\n",
    "\t\tSET \"Leaders_Icon\" = 'Strong';\n",
    "\tELSEIF in_Leader_Score < 100 THEN\n",
    "\t    UPDATE CHICAGO_PUBLIC_SCHOOLS\n",
    "\t\tSET \"Leaders_Icon\" = 'Very Strong';\n",
    "\tEND IF;\n",
    "END @\n",
    "```"
   ]
  },
  {
   "attachments": {},
   "cell_type": "markdown",
   "metadata": {},
   "source": [
    "![Alt text](question3.3.png)"
   ]
  },
  {
   "attachments": {},
   "cell_type": "markdown",
   "metadata": {},
   "source": [
    "## Question 4\n",
    "Run your code to create the stored procedure."
   ]
  },
  {
   "attachments": {},
   "cell_type": "markdown",
   "metadata": {},
   "source": [
    "![Alt text](question3.4.png)"
   ]
  },
  {
   "attachments": {},
   "cell_type": "markdown",
   "metadata": {},
   "source": [
    "# Exercise 4: Using Transactions\n",
    "You realise that if someone calls your code with a score outside of the allowed range (0-99), then the score will be updated with the invalid data and the icon will remain at its previous value. There are various ways to avoid this problem, one of which is using a transaction."
   ]
  },
  {
   "attachments": {},
   "cell_type": "markdown",
   "metadata": {},
   "source": [
    "## Question 1\n",
    "Update your stored procedure definition. Add a generic ELSE clause to the IF statement that rolls back the current work if the score did not fit any of the preceding categories."
   ]
  },
  {
   "attachments": {},
   "cell_type": "markdown",
   "metadata": {},
   "source": [
    "```\n",
    "--#SET TERMINATOR @ \n",
    "CREATE OR REPLACE PROCEDURE UPDATE_LEADERS_SCORE(\n",
    "\tIN in_School_ID INTEGER, \n",
    "\tIN in_Leader_Score INTEGER)\n",
    "LANGUAGE SQL\n",
    "MODIFIES SQL DATA\n",
    "\n",
    "BEGIN \n",
    "\tUPDATE CHICAGO_PUBLIC_SCHOOLS\n",
    "\tSET \"Leaders_Score\" = in_Leader_Score\n",
    "\tWHERE \"School_ID\" = in_School_ID;\n",
    "\t\t\t\n",
    "\tIF in_Leader_Score > 0 AND in_Leader_Score < 20 THEN\n",
    "\t    UPDATE CHICAGO_PUBLIC_SCHOOLS\n",
    "\t\tSET \"Leaders_Icon\" = 'Very Weak';\n",
    "\tELSEIF in_Leader_Score < 40 THEN\n",
    "\t    UPDATE CHICAGO_PUBLIC_SCHOOLS\n",
    "\t\tSET \"Leaders_Icon\" = 'Weak';\t\n",
    "\tELSEIF in_Leader_Score < 60 THEN\n",
    "\t    UPDATE CHICAGO_PUBLIC_SCHOOLS\n",
    "\t\tSET \"Leaders_Icon\" = 'Average';\n",
    "\tELSEIF in_Leader_Score < 80 THEN\n",
    "\t\tUPDATE CHICAGO_PUBLIC_SCHOOLS\n",
    "\t\tSET \"Leaders_Icon\" = 'Strong';\n",
    "\tELSEIF in_Leader_Score < 100 THEN\n",
    "\t    UPDATE CHICAGO_PUBLIC_SCHOOLS\n",
    "\t\tSET \"Leaders_Icon\" = 'Very Strong';\n",
    "\tELSE\n",
    "\t\tROLLBACK WORK;\n",
    "\tEND IF;\n",
    "END @\n",
    "```"
   ]
  },
  {
   "attachments": {},
   "cell_type": "markdown",
   "metadata": {},
   "source": [
    "![Alt text](question4.1.png)"
   ]
  },
  {
   "attachments": {},
   "cell_type": "markdown",
   "metadata": {},
   "source": [
    "## Question 2\n",
    "Update your stored procedure definition again. Add a statement to commit the current unit of work at the end of the procedure."
   ]
  },
  {
   "attachments": {},
   "cell_type": "markdown",
   "metadata": {},
   "source": [
    "```\n",
    "--#SET TERMINATOR @ \n",
    "CREATE OR REPLACE PROCEDURE UPDATE_LEADERS_SCORE(\n",
    "\tIN in_School_ID INTEGER, \n",
    "\tIN in_Leader_Score INTEGER)\n",
    "LANGUAGE SQL\n",
    "MODIFIES SQL DATA\n",
    "\n",
    "BEGIN \n",
    "\tUPDATE CHICAGO_PUBLIC_SCHOOLS\n",
    "\tSET \"Leaders_Score\" = in_Leader_Score\n",
    "\tWHERE \"School_ID\" = in_School_ID;\n",
    "\t\t\t\n",
    "\tIF in_Leader_Score > 0 AND in_Leader_Score < 20 THEN\n",
    "\t    UPDATE CHICAGO_PUBLIC_SCHOOLS\n",
    "\t\tSET \"Leaders_Icon\" = 'Very Weak';\n",
    "\tELSEIF in_Leader_Score < 40 THEN\n",
    "\t    UPDATE CHICAGO_PUBLIC_SCHOOLS\n",
    "\t\tSET \"Leaders_Icon\" = 'Weak';\t\n",
    "\tELSEIF in_Leader_Score < 60 THEN\n",
    "\t    UPDATE CHICAGO_PUBLIC_SCHOOLS\n",
    "\t\tSET \"Leaders_Icon\" = 'Average';\n",
    "\tELSEIF in_Leader_Score < 80 THEN\n",
    "\t\tUPDATE CHICAGO_PUBLIC_SCHOOLS\n",
    "\t\tSET \"Leaders_Icon\" = 'Strong';\n",
    "\tELSEIF in_Leader_Score < 100 THEN\n",
    "\t    UPDATE CHICAGO_PUBLIC_SCHOOLS\n",
    "\t\tSET \"Leaders_Icon\" = 'Very Strong';\n",
    "\tELSE\n",
    "\t\tROLLBACK WORK;\n",
    "\tEND IF;\n",
    "\t\tCOMMIT WORK;\n",
    "END @\n",
    "```"
   ]
  },
  {
   "attachments": {},
   "cell_type": "markdown",
   "metadata": {},
   "source": [
    "![Alt text](question4.2.png)"
   ]
  }
 ],
 "metadata": {
  "kernelspec": {
   "display_name": "Python 3",
   "language": "python",
   "name": "python3"
  },
  "language_info": {
   "name": "python",
   "version": "3.11.1 (tags/v3.11.1:a7a450f, Dec  6 2022, 19:58:39) [MSC v.1934 64 bit (AMD64)]"
  },
  "orig_nbformat": 4,
  "vscode": {
   "interpreter": {
    "hash": "e009c262bfbdebce8d3cc3d2bf49d5575fa1bb6ea7bf5a3806c2013698560bac"
   }
  }
 },
 "nbformat": 4,
 "nbformat_minor": 2
}
